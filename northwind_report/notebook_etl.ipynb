{
 "cells": [
  {
   "cell_type": "code",
   "execution_count": null,
   "metadata": {},
   "outputs": [],
   "source": [
    "import pandas as pd\n",
    "from sqlalchemy import create_engine"
   ]
  },
  {
   "cell_type": "markdown",
   "metadata": {},
   "source": [
    "## Creating the connection with the Database"
   ]
  },
  {
   "cell_type": "code",
   "execution_count": null,
   "metadata": {},
   "outputs": [],
   "source": [
    "db_user = \"postgres\"\n",
    "db_password = \"123456\"\n",
    "db_host = \"localhost\"\n",
    "db_port = \"5432\"\n",
    "db_name = \"northwind\"\n",
    "\n",
    "engine = create_engine(f\"postgresql+psycopg2://{db_user}:{db_password}@{db_host}:{db_port}/{db_name}\")\n",
    "\n",
    "dict_dfs = {}"
   ]
  },
  {
   "cell_type": "markdown",
   "metadata": {},
   "source": [
    "## Categories Table"
   ]
  },
  {
   "cell_type": "code",
   "execution_count": null,
   "metadata": {},
   "outputs": [],
   "source": [
    "df_categories = pd.read_csv('bronze_data/northwind_bronze_data/categories.csv', delimiter=';')\n",
    "\n",
    "display(df_categories.head())\n",
    "\n",
    "df_categories = df_categories.drop(columns=['picture'])\n",
    "\n",
    "display(df_categories.info())\n",
    "display(df_categories)\n",
    "\n",
    "dict_dfs['categories'] = df_categories"
   ]
  },
  {
   "cell_type": "markdown",
   "metadata": {},
   "source": [
    "## Customers Table"
   ]
  },
  {
   "cell_type": "code",
   "execution_count": null,
   "metadata": {},
   "outputs": [],
   "source": [
    "df_customers = pd.read_csv('bronze_data/northwind_bronze_data/customers.csv', delimiter=';')\n",
    "\n",
    "print(df_customers.shape)\n",
    "display(df_customers.head())\n",
    "print(df_customers.info())\n",
    "print(df_customers.isnull().sum())\n",
    "\n",
    "df_customers = df_customers.dropna(how='all')\n",
    "df_customers.fillna({\n",
    "    'fax': 'Unknown',\n",
    "    'region': 'Unknown',\n",
    "    'postal_code': 'Unknow'\n",
    "}, inplace=True)\n",
    "\n",
    "print(df_customers.isnull().sum())\n",
    "display(df_customers.head())\n",
    "print(df_customers.shape)\n",
    "\n",
    "dict_dfs['customers'] = df_customers"
   ]
  },
  {
   "cell_type": "markdown",
   "metadata": {},
   "source": [
    "## Employee Territories Table"
   ]
  },
  {
   "cell_type": "code",
   "execution_count": null,
   "metadata": {},
   "outputs": [],
   "source": [
    "df_employee_territories = pd.read_csv('bronze_data/northwind_bronze_data/employee_territories.csv', delimiter=';')\n",
    "\n",
    "print(df_employee_territories.shape)\n",
    "display(df_employee_territories.head())\n",
    "print(df_employee_territories.info())\n",
    "print(df_employee_territories.isnull().sum())\n",
    "\n",
    "dict_dfs['employee_territories'] = df_employee_territories"
   ]
  },
  {
   "cell_type": "markdown",
   "metadata": {},
   "source": [
    "## Employees Table"
   ]
  },
  {
   "cell_type": "code",
   "execution_count": null,
   "metadata": {},
   "outputs": [],
   "source": [
    "df_employees = pd.read_csv('bronze_data/northwind_bronze_data/employees.csv', delimiter=';')\n",
    "\n",
    "print(df_employees.shape)\n",
    "display(df_employees.head())\n",
    "print(df_employees.info())\n",
    "print(df_employees.isnull().sum())\n",
    "\n",
    "df_employees.dropna(how='all')\n",
    "df_employees.fillna({\n",
    "    'reports_to': 0,\n",
    "    'region': 'Unknow'\n",
    "}, inplace=True)\n",
    "\n",
    "df_employees = df_employees.drop(columns=['photo', 'photo_path'])\n",
    "df_employees['birth_date'] = pd.to_datetime(df_employees['birth_date'], format='%Y-%m-%d', dayfirst=True)\n",
    "df_employees['hire_date'] = pd.to_datetime(df_employees['hire_date'], format='%Y-%m-%d', dayfirst=True)\n",
    "\n",
    "print(df_employees.isnull().sum())\n",
    "print(df_employees.info())\n",
    "display(df_employees.head())\n",
    "\n",
    "dict_dfs['employees'] = df_employees\n"
   ]
  },
  {
   "cell_type": "markdown",
   "metadata": {},
   "source": [
    "## Order Details Table"
   ]
  },
  {
   "cell_type": "code",
   "execution_count": null,
   "metadata": {},
   "outputs": [],
   "source": [
    "df_order_details = pd.read_csv('bronze_data/northwind_bronze_data/order_details.csv', delimiter=';')\n",
    "\n",
    "print(df_order_details.shape)\n",
    "display(df_order_details.head())\n",
    "print(df_order_details.info())\n",
    "print(df_order_details.isnull().sum())\n",
    "\n",
    "dict_dfs['order_details'] = df_order_details"
   ]
  },
  {
   "cell_type": "markdown",
   "metadata": {},
   "source": [
    "## Orders Table"
   ]
  },
  {
   "cell_type": "code",
   "execution_count": null,
   "metadata": {},
   "outputs": [],
   "source": [
    "df_orders = pd.read_csv('bronze_data/northwind_bronze_data/orders.csv', delimiter=';')\n",
    "\n",
    "print(df_orders.shape)\n",
    "display(df_orders.head())\n",
    "print(df_orders.info())\n",
    "print(df_orders.isnull().sum())\n",
    "\n",
    "df_orders['order_date'] = pd.to_datetime(df_orders['order_date'], format='%Y-%m-%d', dayfirst=True)\n",
    "df_orders['required_date'] = pd.to_datetime(df_orders['required_date'], format='%Y-%m-%d', dayfirst=True)\n",
    "df_orders['shipped_date'] = pd.to_datetime(df_orders['shipped_date'], format='%Y-%m-%d', dayfirst=True)\n",
    "\n",
    "df_orders.fillna({\n",
    "    'shipped_date': pd.NaT,\n",
    "    'ship_region': 'Unknown',\n",
    "    'ship_postal_code': 'Unknow'\n",
    "}, inplace=True)\n",
    "\n",
    "display(df_orders.head())\n",
    "print(df_orders.info())\n",
    "print(df_orders.isnull().sum())\n",
    "\n",
    "dict_dfs['orders'] = df_orders\n"
   ]
  },
  {
   "cell_type": "markdown",
   "metadata": {},
   "source": [
    "## Products Table"
   ]
  },
  {
   "cell_type": "code",
   "execution_count": null,
   "metadata": {},
   "outputs": [],
   "source": [
    "df_products = pd.read_csv('bronze_data/northwind_bronze_data/products.csv', delimiter=';')\n",
    "\n",
    "print(df_products.shape)\n",
    "display(df_products.head())\n",
    "print(df_products.info())\n",
    "print(df_products.isnull().sum())\n",
    "\n",
    "dict_dfs['products'] = df_products"
   ]
  },
  {
   "cell_type": "markdown",
   "metadata": {},
   "source": [
    "## Region Table"
   ]
  },
  {
   "cell_type": "code",
   "execution_count": null,
   "metadata": {},
   "outputs": [],
   "source": [
    "\n",
    "df_region = pd.read_csv('bronze_data/northwind_bronze_data/region.csv', delimiter=';')\n",
    "\n",
    "print(df_region.shape)\n",
    "display(df_region.head())\n",
    "print(df_region.info())\n",
    "print(df_region.isnull().sum())\n",
    "\n",
    "\n",
    "dict_dfs['region'] = df_region"
   ]
  },
  {
   "cell_type": "markdown",
   "metadata": {},
   "source": [
    "## Shippers Table"
   ]
  },
  {
   "cell_type": "code",
   "execution_count": null,
   "metadata": {},
   "outputs": [],
   "source": [
    "df_shippers = pd.read_csv('bronze_data/northwind_bronze_data/shippers.csv', delimiter=';')\n",
    "\n",
    "print(df_shippers.shape)\n",
    "display(df_shippers.head())\n",
    "print(df_shippers.info())\n",
    "print(df_shippers.isnull().sum())\n",
    "\n",
    "dict_dfs['shippers'] = df_shippers"
   ]
  },
  {
   "cell_type": "markdown",
   "metadata": {},
   "source": [
    "## Suppliers Table"
   ]
  },
  {
   "cell_type": "code",
   "execution_count": null,
   "metadata": {},
   "outputs": [],
   "source": [
    "df_suppliers = pd.read_csv('bronze_data/northwind_bronze_data/suppliers.csv', delimiter=';')\n",
    "\n",
    "print(df_suppliers.shape)\n",
    "display(df_suppliers.head())\n",
    "print(df_suppliers.info())\n",
    "print(df_suppliers.isnull().sum())\n",
    "\n",
    "df_suppliers.fillna({\n",
    "    'region': 'Unknown',\n",
    "    'fax': 'Unknown',\n",
    "    'homepage': 'Unknow'\n",
    "}, inplace=True)\n",
    "\n",
    "display(df_suppliers.head())\n",
    "print(df_suppliers.info())\n",
    "print(df_suppliers.isnull().sum())\n",
    "\n",
    "dict_dfs['suppliers'] = df_suppliers"
   ]
  },
  {
   "cell_type": "markdown",
   "metadata": {},
   "source": [
    "## Territories Table"
   ]
  },
  {
   "cell_type": "code",
   "execution_count": null,
   "metadata": {},
   "outputs": [],
   "source": [
    "df_territories = pd.read_csv('bronze_data/northwind_bronze_data/territories.csv', delimiter=';')\n",
    "\n",
    "print(df_territories.shape)\n",
    "display(df_territories.head())\n",
    "print(df_territories.info())\n",
    "print(df_territories.isnull().sum())\n",
    "\n",
    "dict_dfs['territories'] = df_territories\n"
   ]
  },
  {
   "cell_type": "markdown",
   "metadata": {},
   "source": [
    "## US States Table"
   ]
  },
  {
   "cell_type": "code",
   "execution_count": null,
   "metadata": {},
   "outputs": [],
   "source": [
    "df_us_states = pd.read_csv('bronze_data/northwind_bronze_data/us_states.csv', delimiter=';')\n",
    "\n",
    "print(df_us_states.shape)\n",
    "display(df_us_states.head())\n",
    "print(df_us_states.info())\n",
    "print(df_us_states.isnull().sum())\n",
    "\n",
    "dict_dfs['us_states'] = df_us_states"
   ]
  },
  {
   "cell_type": "markdown",
   "metadata": {},
   "source": [
    "## Converting the DataFrames into CSV Files and Tables in the Northwind Database"
   ]
  },
  {
   "cell_type": "code",
   "execution_count": null,
   "metadata": {},
   "outputs": [],
   "source": [
    "for table_name, df in dict_dfs.items():\n",
    "    df.to_csv(f'silver_data/northwind_silver_data/{table_name}_silver.csv', index=False, sep=';')\n",
    "    print(f'{table_name}.csv has been created')\n",
    "\n",
    "for table_name, df in dict_dfs.items():\n",
    "    df.to_sql(f'{table_name}', con=engine, if_exists='replace', index=False)\n",
    "    print(f'{table_name} table has been created')"
   ]
  }
 ],
 "metadata": {
  "kernelspec": {
   "display_name": "base",
   "language": "python",
   "name": "python3"
  },
  "language_info": {
   "codemirror_mode": {
    "name": "ipython",
    "version": 3
   },
   "file_extension": ".py",
   "mimetype": "text/x-python",
   "name": "python",
   "nbconvert_exporter": "python",
   "pygments_lexer": "ipython3",
   "version": "3.12.7"
  }
 },
 "nbformat": 4,
 "nbformat_minor": 2
}
